{
 "cells": [
  {
   "cell_type": "markdown",
   "metadata": {},
   "source": [
    "### CLASES"
   ]
  },
  {
   "cell_type": "markdown",
   "metadata": {},
   "source": [
    "Las **clases** son los modelos sobre los cuáles se construirán nuestros objetos. Podemos tomar como ejemplo de clases, el gráfico que hicimos en la página 8 de este documento.\n",
    "\n",
    "En Python, una clase se define con la instrucción *class* seguida de un nombre genérico para el objeto"
   ]
  },
  {
   "cell_type": "markdown",
   "metadata": {},
   "source": [
    "Las **propiedades** son las características intrínsecas del objeto. Éstas, se representan a modo de variables, solo que técnicamente, pasan a denominarse propiedades."
   ]
  },
  {
   "cell_type": "markdown",
   "metadata": {},
   "source": [
    "Los **métodos** son funciones (como las que vimos en el capítulo anterior), solo que técnicamente se denominan métodos, y representan acciones propias que puede realizar el objeto (y no otro)."
   ]
  },
  {
   "cell_type": "markdown",
   "metadata": {},
   "source": [
    "Pensemos a las clases e instancias como planos y casas. Cuando diseñamos un plano, incluimos en él información tal como medida de la vivienda, números de habitaciones y baños y su correspondiente ubicación, pisos de este o aquel material, distribución de los espacios, etc. El plano no es en sí mismo ninguna casa; antes bien, describe cómo se verá ésta una vez construida. De modo que, si el plano contiene una puerta lateral, podemos asegurar que no nos encontraremos con una pared cuando nos dirijamos allí en la casa actual.\n",
    "\n",
    "De la misma forma, una clase no constituye ningún objeto en particular. Más bien define las propiedades que tendrán las instancias de dicha clase una vez creadas; y aquí por propiedades entiendo variables y funciones. Las variables y funciones que están dentro de una clase llevan el nombre de atributos y métodos, respectivamente."
   ]
  },
  {
   "cell_type": "code",
   "execution_count": 1,
   "metadata": {},
   "outputs": [],
   "source": [
    "class Ojo():\n",
    "    forma = \"pequeño\" \n",
    "    color = \"miel\" \n",
    "    tamaño = \"achinado\"\n",
    "    \n",
    "class Pelo():\n",
    "    color = \"castaño\" \n",
    "    textura = \"suave\" \n",
    "\n",
    "class Objeto():\n",
    "    color = \"verde\"\n",
    "    tamaño = 'grande'\n",
    "    aspecto = \"feo\"\n",
    "    ojos = Ojo()\n",
    "    pelo = Pelo()\n",
    "    \n",
    "    def Flotar(self):  #Notar que el primer parámetro de un método, siempre debe ser self\n",
    "        print (12)\n",
    "        "
   ]
  },
  {
   "cell_type": "markdown",
   "metadata": {},
   "source": [
    "### OBJETOS"
   ]
  },
  {
   "cell_type": "markdown",
   "metadata": {},
   "source": [
    "Las clases por sí mismas, no son más que modelos que nos servirán para crear objetos en concreto. Podemos decir que una clase, es el razonamiento abstracto de un objeto, mientras que el objeto, es su materialización. A la acción de crear objetos, se la denomina instanciar una clase y dicha instancia, consiste en asignar la clase, como valor a una variable:"
   ]
  },
  {
   "cell_type": "code",
   "execution_count": 11,
   "metadata": {},
   "outputs": [],
   "source": [
    "et = Objeto()"
   ]
  },
  {
   "cell_type": "code",
   "execution_count": 12,
   "metadata": {},
   "outputs": [
    {
     "data": {
      "text/plain": [
       "'verde'"
      ]
     },
     "execution_count": 12,
     "metadata": {},
     "output_type": "execute_result"
    }
   ],
   "source": [
    "et.color"
   ]
  },
  {
   "cell_type": "code",
   "execution_count": 13,
   "metadata": {},
   "outputs": [
    {
     "data": {
      "text/plain": [
       "'grande'"
      ]
     },
     "execution_count": 13,
     "metadata": {},
     "output_type": "execute_result"
    }
   ],
   "source": [
    "et.tamaño"
   ]
  },
  {
   "cell_type": "code",
   "execution_count": 14,
   "metadata": {},
   "outputs": [
    {
     "name": "stdout",
     "output_type": "stream",
     "text": [
      "rosa\n"
     ]
    }
   ],
   "source": [
    "et.color = \"rosa\" \n",
    "print (et.color)"
   ]
  },
  {
   "cell_type": "markdown",
   "metadata": {},
   "source": [
    "Algunos objetos comparten las mismas propiedades y métodos que otro objeto, y además agregan nuevas propiedades y métodos. A esto se lo denomina herencia: una clase que hereda de otra. Vale aclarar, que en Python, cuando una clase no hereda de ninguna otra, debe hacerse heredar de object, que es la clase principal de Python, que define un objeto."
   ]
  },
  {
   "cell_type": "code",
   "execution_count": 24,
   "metadata": {},
   "outputs": [],
   "source": [
    "class Dedo(object): \n",
    "    longitud = \"10 mm\" \n",
    "    forma = \"gordo\" \n",
    "    color = \"carne\"\n",
    "\n",
    "class Pie(object): \n",
    "    forma = \"\" \n",
    "    color = \"\" \n",
    "    dedos = Dedo() \n",
    "    \n",
    "class NuevoObjeto(Objeto): \n",
    "    dedo = Dedo() \n",
    " \n",
    "    def saltar(self): \n",
    "        print (\"Ha saltado!\")"
   ]
  },
  {
   "cell_type": "markdown",
   "metadata": {},
   "source": [
    "#### Acceder a los métodos y propiedades"
   ]
  },
  {
   "cell_type": "markdown",
   "metadata": {},
   "source": [
    "Una vez creado un objeto, es decir, una vez hecha la instancia de clase, es posible acceder a su métodos y propiedades. Para ello, Python utiliza una sintaxis muy simple: el nombre del objeto, seguido de punto y la propiedad o método al cuál se desea acceder:"
   ]
  },
  {
   "cell_type": "code",
   "execution_count": 26,
   "metadata": {},
   "outputs": [
    {
     "name": "stdout",
     "output_type": "stream",
     "text": [
      "gordo\n"
     ]
    }
   ],
   "source": [
    "objeto = Dedo() \n",
    "print (objeto.forma) "
   ]
  },
  {
   "cell_type": "code",
   "execution_count": 29,
   "metadata": {},
   "outputs": [
    {
     "ename": "TypeError",
     "evalue": "saltar() missing 1 required positional argument: 'self'",
     "output_type": "error",
     "traceback": [
      "\u001b[0;31m---------------------------------------------------------------------------\u001b[0m",
      "\u001b[0;31mTypeError\u001b[0m                                 Traceback (most recent call last)",
      "\u001b[0;32m<ipython-input-29-9366efa15a16>\u001b[0m in \u001b[0;36m<module>\u001b[0;34m\u001b[0m\n\u001b[0;32m----> 1\u001b[0;31m \u001b[0mvariable\u001b[0m \u001b[0;34m=\u001b[0m \u001b[0mNuevoObjeto\u001b[0m\u001b[0;34m.\u001b[0m\u001b[0msaltar\u001b[0m\u001b[0;34m(\u001b[0m\u001b[0;34m)\u001b[0m\u001b[0;34m\u001b[0m\u001b[0m\n\u001b[0m\u001b[1;32m      2\u001b[0m \u001b[0mprint\u001b[0m \u001b[0;34m(\u001b[0m\u001b[0mvariable\u001b[0m\u001b[0;34m)\u001b[0m\u001b[0;34m\u001b[0m\u001b[0m\n\u001b[1;32m      3\u001b[0m \u001b[0;31m# print (NuevoObjeto.otro_metodo())\u001b[0m\u001b[0;34m\u001b[0m\u001b[0;34m\u001b[0m\u001b[0m\n",
      "\u001b[0;31mTypeError\u001b[0m: saltar() missing 1 required positional argument: 'self'"
     ]
    }
   ],
   "source": [
    "variable = NuevoObjeto.saltar()\n",
    "print (variable)\n",
    "# print (NuevoObjeto.otro_metodo())"
   ]
  },
  {
   "cell_type": "code",
   "execution_count": null,
   "metadata": {},
   "outputs": [],
   "source": []
  },
  {
   "cell_type": "markdown",
   "metadata": {},
   "source": [
    "### Ejemplo"
   ]
  },
  {
   "cell_type": "markdown",
   "metadata": {},
   "source": [
    " Supongamos que necesitamos desarrollar una aplicación para gestionar ─agregar, remover, editar─ la información de los estudiantes en un instituto."
   ]
  },
  {
   "cell_type": "code",
   "execution_count": 31,
   "metadata": {},
   "outputs": [],
   "source": [
    "class Student():\n",
    "    pass"
   ]
  },
  {
   "cell_type": "code",
   "execution_count": 39,
   "metadata": {},
   "outputs": [],
   "source": [
    "#Creo una instancia del objeto. (A los objetos también se los llama instancias)\n",
    "student = Student()"
   ]
  },
  {
   "cell_type": "code",
   "execution_count": 40,
   "metadata": {},
   "outputs": [],
   "source": [
    "student.name = \"Pablo\""
   ]
  },
  {
   "cell_type": "code",
   "execution_count": 41,
   "metadata": {},
   "outputs": [],
   "source": [
    "student.subjects = [5, 14, 3]"
   ]
  },
  {
   "cell_type": "code",
   "execution_count": 42,
   "metadata": {},
   "outputs": [],
   "source": [
    "student2 = Student()\n",
    "student2.name = \"Pedro\"\n",
    "student2.subjects = [1, 9]"
   ]
  },
  {
   "cell_type": "markdown",
   "metadata": {},
   "source": [
    "Este abordaje tiene un problema. En primer lugar está la obvia repetición de código. Si quisiéramos añadir un atributo o bien modificar el nombre de uno existente, deberíamos hurgar en todo el código en busca de ocurrencias. Por otro lado, ¿qué pasaría si quisiéramos chequear que el atributo name sea una cadena y el atributo subjects una lista? Pues bien, simplemente, digamos, creemos una función que se encargue de ello."
   ]
  },
  {
   "cell_type": "code",
   "execution_count": 52,
   "metadata": {},
   "outputs": [],
   "source": [
    "class Student:\n",
    "    pass\n",
    "    def initialize(student, name, subjects):\n",
    "        if not isinstance(name, str):\n",
    "            raise TypeError(\"name must be a string\")\n",
    "        elif not isinstance(subjects, list):\n",
    "            raise TypeError(\"subjects must be a list\")\n",
    "        student.name = name\n",
    "        student.subjects = subjects\n",
    "\n",
    "    \n",
    "student = Student()\n",
    "Student.initialize(student, \"Pablo\", [5, 14, 3])\n",
    "student2 = Student()\n",
    "Student.initialize(student2, \"Pedro\", [1, 9])"
   ]
  },
  {
   "cell_type": "markdown",
   "metadata": {},
   "source": [
    "Initialize() es un método de la clase Student cuyo primer argumento siempre es una instancia de ésta, Python nos permite llamarlo usando la nomenclatura instancia.metodo(...) como abreviación para Clase.metodo(instancia, ...). Por esta razón, el código anterior lo reescribimos como sigue."
   ]
  },
  {
   "cell_type": "code",
   "execution_count": 53,
   "metadata": {},
   "outputs": [],
   "source": [
    "student = Student()\n",
    "student.initialize(\"Pablo\", [5, 14, 3])\n",
    "student2 = Student()\n",
    "student2.initialize(\"Pedro\", [1, 9])"
   ]
  },
  {
   "cell_type": "markdown",
   "metadata": {},
   "source": [
    "La creación de un método para inicializar atributos es una práctica tan común en la programación orientada a objetos, que el lenguaje reserva un nombre especial para esa función: __init__(). En Python, los objetos que comienzan y terminan con doble guión bajo siempre tienen un funcionamiento en particular y no son invocados directamente. Así, con el renombre pautado, el código de la clase pasaría a ser:"
   ]
  },
  {
   "cell_type": "code",
   "execution_count": 56,
   "metadata": {},
   "outputs": [],
   "source": [
    "class Student:\n",
    "    def __init__(student, name, subjects):\n",
    "        if not isinstance(name, str):\n",
    "            raise TypeError(\"name must be a string\")\n",
    "        elif not isinstance(subjects, list):\n",
    "            raise TypeError(\"subjects must be a list\")\n",
    "        student.name = name\n",
    "        student.subjects = subjects\n",
    "        \n",
    "    def print_info(student):\n",
    "        print(\"Nombre: {}.\".format(student.name))\n",
    "        print(\"Asignaturas: {}.\".format(student.subjects))"
   ]
  },
  {
   "cell_type": "markdown",
   "metadata": {},
   "source": [
    "No obstante, como dijimos, **_ _init_ _()** no está pensado para ser llamado directamente. Antes bien, Python lo invoca de forma automática cuando creamos una instancia de la clase. Y los argumentos que le pasamos a la clase son pasados al método de inicialización. De modo que nuestro código posterior se reduce a lo siguiente."
   ]
  },
  {
   "cell_type": "code",
   "execution_count": 58,
   "metadata": {},
   "outputs": [],
   "source": [
    "student = Student(\"Pablo\", [5, 14, 3])\n",
    "student2 = Student(\"Pedro\", [1, 9])"
   ]
  },
  {
   "cell_type": "code",
   "execution_count": 59,
   "metadata": {},
   "outputs": [
    {
     "name": "stdout",
     "output_type": "stream",
     "text": [
      "Nombre: Pablo.\n",
      "Asignaturas: [5, 14, 3].\n"
     ]
    }
   ],
   "source": [
    "student.print_info()"
   ]
  },
  {
   "cell_type": "markdown",
   "metadata": {},
   "source": [
    "### ¿Qué es SELF?"
   ]
  },
  {
   "cell_type": "markdown",
   "metadata": {},
   "source": [
    "Todos los métodos dentro de una clase llevan por primer argumento una instancia de dicha clase, sobre la cual se efectúan los cambios. Por cuanto nuestra clase Student representa un estudiante, hemos nombrado a este primer argumento student. No obstante, por convención, se lo llama self ─es decir, «yo»─."
   ]
  },
  {
   "cell_type": "code",
   "execution_count": 60,
   "metadata": {},
   "outputs": [],
   "source": [
    "class Student:\n",
    "    def __init__(self, name, subjects):\n",
    "        if not isinstance(name, str):\n",
    "            raise TypeError(\"name must be a string\")\n",
    "        elif not isinstance(subjects, list):\n",
    "            raise TypeError(\"subjects must be a list\")\n",
    "        self.name = name\n",
    "        self.subjects = subjects\n",
    "    \n",
    "    def print_info(self):\n",
    "        print(\"Nombre: {}.\".format(self.name))\n",
    "        print(\"Asignaturas: {}.\".format(self.subjects))"
   ]
  },
  {
   "cell_type": "markdown",
   "metadata": {},
   "source": [
    "Por esta causa self no es ningún objeto mágico o palabra reservada. Sencillamente es una instancia de la clase desde la cual está siendo invocado. Recordemos que ambas llamadas a continuación son equivalentes."
   ]
  },
  {
   "cell_type": "code",
   "execution_count": 61,
   "metadata": {},
   "outputs": [
    {
     "name": "stdout",
     "output_type": "stream",
     "text": [
      "Nombre: Pablo.\n",
      "Asignaturas: [5, 14, 3].\n",
      "Nombre: Pablo.\n",
      "Asignaturas: [5, 14, 3].\n"
     ]
    }
   ],
   "source": [
    "Student.print_info(student)\n",
    "student.print_info()"
   ]
  },
  {
   "cell_type": "markdown",
   "metadata": {},
   "source": [
    "Así, considerando el siguiente código:"
   ]
  },
  {
   "cell_type": "code",
   "execution_count": 62,
   "metadata": {},
   "outputs": [
    {
     "name": "stdout",
     "output_type": "stream",
     "text": [
      "Nombre: Pablo.\n",
      "Asignaturas: [5, 14, 3].\n",
      "Nombre: Pedro.\n",
      "Asignaturas: [1, 9].\n"
     ]
    }
   ],
   "source": [
    "student.print_info()\n",
    "student2.print_info()"
   ]
  },
  {
   "cell_type": "markdown",
   "metadata": {},
   "source": [
    "En la primera llamada, self == student, mientras que en la segunda self == student2."
   ]
  },
  {
   "cell_type": "markdown",
   "metadata": {},
   "source": [
    "### Encapsulamiento"
   ]
  },
  {
   "cell_type": "markdown",
   "metadata": {},
   "source": [
    "En Python todos los métodos y atributos son públicos. Públicos, entendidos en la terminología de otros lenguajes orientados a objetos como Java o C++ que distinguen entre elementos públicos y privados. No obstante, como convención, se prefija un guión bajo a aquellos métodos o atributos que quieran ser catalogados como privados. En otras palabras, un guión bajo delante del nombre de un objeto indica que éste no debería ser utilizado desde fuera de la clase.\n",
    "\n"
   ]
  },
  {
   "cell_type": "markdown",
   "metadata": {},
   "source": [
    "Por ejemplo, si bien hemos chequeado en la inicialización de Student que el atributo name sea una cadena, nada nos impide alterarlo luego por fuera de la clase.\n",
    "\n"
   ]
  },
  {
   "cell_type": "code",
   "execution_count": 64,
   "metadata": {},
   "outputs": [],
   "source": [
    "student = Student(\"Pablo\", [5, 14, 3])\n",
    "student.name = 1  # No es una cadena."
   ]
  },
  {
   "cell_type": "markdown",
   "metadata": {},
   "source": [
    "Sería útil, por ende, crear los métodos set_name() y get_name() para hacer las comprobaciones pertinentes."
   ]
  },
  {
   "cell_type": "code",
   "execution_count": 65,
   "metadata": {},
   "outputs": [],
   "source": [
    "class Student:\n",
    "    def __init__(self, name, subjects):\n",
    "        self.set_name(name)\n",
    "        if not isinstance(subjects, list):\n",
    "            raise TypeError(\"subjects must be a list\")\n",
    "        self.subjects = subjects\n",
    "    \n",
    "    def set_name(self, name):\n",
    "        if not isinstance(name, str):\n",
    "            raise TypeError(\"name must be a string\")\n",
    "        self._name = name\n",
    "    \n",
    "    def get_name(self):\n",
    "        return self._name"
   ]
  },
  {
   "cell_type": "code",
   "execution_count": 73,
   "metadata": {},
   "outputs": [],
   "source": [
    "student = Student(\"Pablo\", [5, 14, 3])"
   ]
  },
  {
   "cell_type": "code",
   "execution_count": 76,
   "metadata": {},
   "outputs": [
    {
     "ename": "TypeError",
     "evalue": "name must be a string",
     "output_type": "error",
     "traceback": [
      "\u001b[0;31m---------------------------------------------------------------------------\u001b[0m",
      "\u001b[0;31mTypeError\u001b[0m                                 Traceback (most recent call last)",
      "\u001b[0;32m<ipython-input-76-3f978c5f4f4e>\u001b[0m in \u001b[0;36m<module>\u001b[0;34m\u001b[0m\n\u001b[0;32m----> 1\u001b[0;31m \u001b[0mstudent\u001b[0m\u001b[0;34m.\u001b[0m\u001b[0mset_name\u001b[0m\u001b[0;34m(\u001b[0m\u001b[0;36m1\u001b[0m\u001b[0;34m)\u001b[0m  \u001b[0;31m# TypeError.\u001b[0m\u001b[0;34m\u001b[0m\u001b[0m\n\u001b[0m",
      "\u001b[0;32m<ipython-input-65-e8aa0b1973cc>\u001b[0m in \u001b[0;36mset_name\u001b[0;34m(self, name)\u001b[0m\n\u001b[1;32m      8\u001b[0m     \u001b[0;32mdef\u001b[0m \u001b[0mset_name\u001b[0m\u001b[0;34m(\u001b[0m\u001b[0mself\u001b[0m\u001b[0;34m,\u001b[0m \u001b[0mname\u001b[0m\u001b[0;34m)\u001b[0m\u001b[0;34m:\u001b[0m\u001b[0;34m\u001b[0m\u001b[0m\n\u001b[1;32m      9\u001b[0m         \u001b[0;32mif\u001b[0m \u001b[0;32mnot\u001b[0m \u001b[0misinstance\u001b[0m\u001b[0;34m(\u001b[0m\u001b[0mname\u001b[0m\u001b[0;34m,\u001b[0m \u001b[0mstr\u001b[0m\u001b[0;34m)\u001b[0m\u001b[0;34m:\u001b[0m\u001b[0;34m\u001b[0m\u001b[0m\n\u001b[0;32m---> 10\u001b[0;31m             \u001b[0;32mraise\u001b[0m \u001b[0mTypeError\u001b[0m\u001b[0;34m(\u001b[0m\u001b[0;34m\"name must be a string\"\u001b[0m\u001b[0;34m)\u001b[0m\u001b[0;34m\u001b[0m\u001b[0m\n\u001b[0m\u001b[1;32m     11\u001b[0m         \u001b[0mself\u001b[0m\u001b[0;34m.\u001b[0m\u001b[0m_name\u001b[0m \u001b[0;34m=\u001b[0m \u001b[0mname\u001b[0m\u001b[0;34m\u001b[0m\u001b[0m\n\u001b[1;32m     12\u001b[0m \u001b[0;34m\u001b[0m\u001b[0m\n",
      "\u001b[0;31mTypeError\u001b[0m: name must be a string"
     ]
    }
   ],
   "source": [
    "student.set_name(1)  # TypeError."
   ]
  },
  {
   "cell_type": "code",
   "execution_count": null,
   "metadata": {},
   "outputs": [],
   "source": []
  }
 ],
 "metadata": {
  "kernelspec": {
   "display_name": "Python 3",
   "language": "python",
   "name": "python3"
  },
  "language_info": {
   "codemirror_mode": {
    "name": "ipython",
    "version": 3
   },
   "file_extension": ".py",
   "mimetype": "text/x-python",
   "name": "python",
   "nbconvert_exporter": "python",
   "pygments_lexer": "ipython3",
   "version": "3.6.6"
  }
 },
 "nbformat": 4,
 "nbformat_minor": 2
}
